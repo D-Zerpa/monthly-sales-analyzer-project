{
  "cells": [
    {
      "cell_type": "markdown",
      "metadata": {
        "id": "63pFpc-BRSqW"
      },
      "source": [
        "# Funciones en Python"
      ]
    },
    {
      "cell_type": "markdown",
      "metadata": {
        "id": "i9RkLOxwRrGv"
      },
      "source": [
        "## ¿Qué es una Funcion?"
      ]
    },
    {
      "cell_type": "markdown",
      "metadata": {
        "id": "XhzTLCdZSESm"
      },
      "source": [
        "## ¿Cómo se declara?"
      ]
    },
    {
      "cell_type": "markdown",
      "metadata": {
        "id": "HfS6v3-bTA1T"
      },
      "source": [
        "Constuir una función simple, para realizar una operación matemática cualquiera."
      ]
    },
    {
      "cell_type": "code",
      "execution_count": 18,
      "metadata": {
        "colab": {
          "base_uri": "https://localhost:8080/"
        },
        "id": "PbeE97F0R8Jb",
        "outputId": "9f02a9cf-e41b-49bd-cab8-a2a16dcb51e8"
      },
      "outputs": [
        {
          "name": "stdout",
          "output_type": "stream",
          "text": [
            "103\n",
            "104\n"
          ]
        }
      ],
      "source": [
        "\n",
        "def sumar(a):\n",
        "    \n",
        "    total = a + 100\n",
        "    \n",
        "    return total\n",
        "\n",
        "print(sumar(3))\n",
        "print(sumar(4))"
      ]
    },
    {
      "cell_type": "markdown",
      "metadata": {
        "id": "JLi8_pIxTGLY"
      },
      "source": [
        "Construir una función para calcular el precio total de una fiesta, tomando en cuenta la cantidad de invitados y las siguientes caracteristicas:\n",
        "\n",
        "\n",
        "* Primero se debe conocer el número de invitados (se le debe pasar como parámetro a la función)\n",
        "* El costo general de una fiesta es de 10 dólares por invitados\n",
        "* Si hay más de 200 invitados se ofrece un descuento de un 10%.\n"
      ]
    },
    {
      "cell_type": "code",
      "execution_count": 22,
      "metadata": {
        "colab": {
          "base_uri": "https://localhost:8080/"
        },
        "id": "TsS2516hS6pr",
        "outputId": "f837a7b6-0f26-4675-936b-47dbf28eddca"
      },
      "outputs": [
        {
          "name": "stdout",
          "output_type": "stream",
          "text": [
            "1890.0\n",
            "2700.0\n",
            "1800\n"
          ]
        }
      ],
      "source": [
        "def precio_total(invitados):\n",
        "    \n",
        "    costo_general = invitados * 10\n",
        "    \n",
        "    if invitados > 200:\n",
        "        costo_general = costo_general * 0.90\n",
        "    \n",
        "    return costo_general\n",
        "        \n",
        "\n",
        "print(precio_total(210))\n",
        "print(precio_total(300))\n",
        "print(precio_total(180))"
      ]
    },
    {
      "cell_type": "markdown",
      "metadata": {
        "id": "4Gtg0a3-UTwN"
      },
      "source": [
        "## Parámetros vs Argumentos"
      ]
    },
    {
      "cell_type": "markdown",
      "metadata": {
        "id": "G6uYT5z6WXL4"
      },
      "source": [
        "### *Parámetros*\n",
        "\n",
        "* Las variables que se le asignan al momento de declarar una función a los datos requeridos para realizar sus funciones.\n",
        "\n",
        "* Una función puede tener tantos parámetros como sean necesarios."
      ]
    },
    {
      "cell_type": "markdown",
      "metadata": {
        "id": "aeoU-1mZUYff"
      },
      "source": [
        "### *Argumentos*\n",
        "\n",
        "* Se puede pasar información a las funciones en forma de **argumentos**.\n",
        "\n",
        "* Estos argumentos son especificados al llamar la función, entre paréntesis.\n",
        "\n",
        "* Se puede añadir la cantidad de argumentos que se deseen. Por default, deben ser equivalentes a la cantidad de parámetros que acepte la función."
      ]
    },
    {
      "cell_type": "code",
      "execution_count": 33,
      "metadata": {
        "colab": {
          "base_uri": "https://localhost:8080/"
        },
        "id": "1X_-SOaBVCZF",
        "outputId": "30c9200f-70da-4562-9ab9-5548d06f9163"
      },
      "outputs": [
        {
          "name": "stdout",
          "output_type": "stream",
          "text": [
            "33\n",
            "15\n",
            "24\n"
          ]
        }
      ],
      "source": [
        "def function_name(first_arg, second_arg, third_arg=30):\n",
        "  \n",
        "  print(first_arg + second_arg + third_arg)\n",
        "\n",
        "function_name(1,2)\n",
        "function_name(4,5,6)\n",
        "function_name(7,8,9)"
      ]
    },
    {
      "cell_type": "markdown",
      "metadata": {
        "id": "7G1Bf0__YIUc"
      },
      "source": [
        "BONUS: También existen argumentos arbitrarios. Esto se hace cuando no se sabe cuantos argumentos se pasarán a la función.\n",
        "\n",
        "Se hace añadiendo un * antes del parámetro en cuestión."
      ]
    },
    {
      "cell_type": "code",
      "execution_count": 32,
      "metadata": {
        "colab": {
          "base_uri": "https://localhost:8080/"
        },
        "id": "wfGBGA5fX-91",
        "outputId": "069b3214-66ab-449c-9f26-48807f22ffa3"
      },
      "outputs": [
        {
          "name": "stdout",
          "output_type": "stream",
          "text": [
            "[1, 2, 'a']\n",
            "[4, 5, 6, 7, 8]\n",
            "[9, 10, 11, 12, 13, 14]\n"
          ]
        }
      ],
      "source": [
        "def function_name(*numbers):\n",
        "                              #Declaramos la función con el * antes del parámetro, esto hará que todos los valores recibidos se conviertan en una tupla.\n",
        "  print(list(numbers))         #Convertimos la tupla en una lista para poder sumar sus variables.\n",
        "\n",
        "function_name(1,2,\"a\")\n",
        "function_name(4,5,6,7,8)\n",
        "function_name(9,10,11,12,13,14)"
      ]
    },
    {
      "cell_type": "markdown",
      "metadata": {
        "id": "ElXLy14Aa2wW"
      },
      "source": [
        "Nota 2: Al igual que con los argumentos arbitrarios, hay varias otras formas de definir los parámetros que nos pueden ayudar a confeccionar funciones mucho más óptimas.\n",
        "\n",
        "Link Recomendado: https://www.w3schools.com/python/python_functions.asp"
      ]
    },
    {
      "cell_type": "markdown",
      "metadata": {
        "id": "pVTZgie1cMbC"
      },
      "source": [
        "## Retorno de las funciones:"
      ]
    },
    {
      "cell_type": "markdown",
      "metadata": {
        "id": "3Hi8mXwlcq36"
      },
      "source": [
        "* Las funciones por definición siempre deben devolver algo.\n",
        "\n",
        "* Las dos formas más comunes de realizar esto es mediante el **print** y el **return**. Dependiendo para lo que se necesite la función.\n",
        "\n"
      ]
    },
    {
      "cell_type": "code",
      "execution_count": 37,
      "metadata": {
        "id": "fRsE9EXleDU5"
      },
      "outputs": [],
      "source": [
        "#Si únicamente queremos el resultado de la operación que realizará la función, podemos ordenarle que lo imprima directamente.\n",
        "\n",
        "def function_name():\n",
        "  pass\n",
        "\n"
      ]
    },
    {
      "cell_type": "code",
      "execution_count": 43,
      "metadata": {
        "colab": {
          "base_uri": "https://localhost:8080/"
        },
        "id": "-r3KZiD3eD4n",
        "outputId": "95010204-304c-4c65-efef-a3ea6eac6f89"
      },
      "outputs": [
        {
          "name": "stdout",
          "output_type": "stream",
          "text": [
            "6\n",
            "El valor total es: 5\n"
          ]
        }
      ],
      "source": [
        "# No obstante, si el resultado de la función es solo parte del procedimiento a realizar (que será en la mayoría de los casos), \n",
        "# se utiliza el return para que solo arroje dicho resultado.\n",
        "\n",
        "def function_name(first_arg, second_arg, third_arg):\n",
        "  print(first_arg + second_arg + third_arg)\n",
        "  return (first_arg + second_arg + third_arg)\n",
        "\n",
        "total = function_name(1,2,3) - 1\n",
        "\n",
        "print(f\"El valor total es: {total}\")"
      ]
    },
    {
      "cell_type": "markdown",
      "metadata": {
        "id": "p4rtWcpnbmwE"
      },
      "source": [
        "## Alcance de las funciones:"
      ]
    },
    {
      "cell_type": "code",
      "execution_count": null,
      "metadata": {
        "colab": {
          "base_uri": "https://localhost:8080/"
        },
        "id": "ys3Wj2g4gYmc",
        "outputId": "acc8e4e6-3694-46d9-922e-8f6cef4da916"
      },
      "outputs": [
        {
          "name": "stdout",
          "output_type": "stream",
          "text": [
            "68\n"
          ]
        }
      ],
      "source": [
        "# Esta parte del código está FUERA de la función 'multiplicar'\n",
        "\n",
        "def multiplicar(a, b):\n",
        "\n",
        "    # Esta parte del código está DENTRO de mi función\n",
        "    # porque está después de la declaración e indentada a la derecha\n",
        "\n",
        "    return a * b\n",
        "\n",
        "    # Esta parte del código está DENTRO\n",
        "    # pero nunca se ejecutará porque se encuentra DESPUÉS del return\n",
        "\n",
        "# esta parte del código está FUERA de la función 'multiplicar'\n",
        "# porque ya no tiene la indentación a la derecha\n",
        "print(multiplicar(34, 2))"
      ]
    },
    {
      "cell_type": "markdown",
      "metadata": {
        "id": "lUGVne6rcZDb"
      },
      "source": [
        "## Combinar funciones (funciones anidadas)"
      ]
    },
    {
      "cell_type": "markdown",
      "metadata": {
        "id": "q51L1J01hoXM"
      },
      "source": [
        "Es posible encadenar funciones entre sí, siempre y cuando se respete la cantidad de argumentos que necesita cada una para funcionar."
      ]
    },
    {
      "cell_type": "code",
      "execution_count": 44,
      "metadata": {
        "colab": {
          "base_uri": "https://localhost:8080/"
        },
        "id": "QCxkUqsshLmP",
        "outputId": "3c7f84bd-a12b-451a-c501-09c28e0a05bd"
      },
      "outputs": [
        {
          "name": "stdout",
          "output_type": "stream",
          "text": [
            "16\n"
          ]
        }
      ],
      "source": [
        "def suma(a, b):\n",
        "   return a + b\n",
        "\n",
        "def multiplicar(a, b):\n",
        "   return a * b\n",
        "\n",
        "resultado = multiplicar(suma(3, 5), suma(1, 1))\n",
        "\n",
        "\n",
        "# Las ejecuciones van de adentro hacia afuera\n",
        "# Primero, se calculará la suma de 3 + 5 y 1 + 1\n",
        "# A continuación, se multiplicarán sus respectivos resultados\n",
        "\n",
        "primero = suma(3, 5)\n",
        "segundo = suma(1, 1)\n",
        "\n",
        "print(resultado)"
      ]
    },
    {
      "cell_type": "markdown",
      "metadata": {
        "id": "H1YW5QIrca0C"
      },
      "source": [
        "## Funciones anónimas (lambda):"
      ]
    },
    {
      "cell_type": "markdown",
      "metadata": {
        "id": "1Ihn1cgSh4_q"
      },
      "source": [
        "Las funciones lambda son funciones de una linea. Son llamadas \"anónimas\" porque carecen de nombre.\n",
        "\n",
        "* Suelen ser destinadas a realizar operaciones sencillas.\n",
        "\n",
        "* Pueden recibir cualquier cantidad de argumentos, pero solo una expresión.\n",
        "\n"
      ]
    },
    {
      "cell_type": "markdown",
      "metadata": {
        "id": "lMbZHOgqiSru"
      },
      "source": [
        "Usa la siguiente sintaxis:\n",
        "\n",
        "    lambda arguments : expression\n",
        "\n",
        "Donde los argumentos son los datos añadidos y las expresiones son las operaciones que se realizarán con ellos."
      ]
    },
    {
      "cell_type": "markdown",
      "metadata": {
        "id": "0MOqwxFdjyMq"
      },
      "source": [
        "Ejemplo:"
      ]
    },
    {
      "cell_type": "code",
      "execution_count": 45,
      "metadata": {
        "colab": {
          "base_uri": "https://localhost:8080/"
        },
        "id": "7gPf_lJljFwi",
        "outputId": "5072a07c-269f-439a-b03a-6d675b9063d5"
      },
      "outputs": [
        {
          "name": "stdout",
          "output_type": "stream",
          "text": [
            "30\n"
          ]
        }
      ],
      "source": [
        "x = lambda a, b : a * b\n",
        "print(x(5, 6))"
      ]
    },
    {
      "cell_type": "code",
      "execution_count": null,
      "metadata": {
        "id": "OrSGqtKuj0xy"
      },
      "outputs": [],
      "source": [
        "def coste(x,y):\n",
        "  if x <= 200:\n",
        "    print(x * y)\n",
        "  else:\n",
        "    print((x * y) / 1.1)\n",
        "    \n",
        "    \n",
        "def precio_total(invitados):\n",
        "    \n",
        "    costo_general = invitados * 10\n",
        "    \n",
        "    if invitados > 200:\n",
        "        costo_general = costo_general * 0.90\n",
        "    \n",
        "    return costo_general"
      ]
    },
    {
      "cell_type": "code",
      "execution_count": 48,
      "metadata": {
        "colab": {
          "base_uri": "https://localhost:8080/"
        },
        "id": "H_EOfIzJj0mp",
        "outputId": "00882308-e83d-4c1a-c767-32e627e7f4f9"
      },
      "outputs": [
        {
          "name": "stdout",
          "output_type": "stream",
          "text": [
            "2000\n",
            "1990\n",
            "1809.0\n",
            "2700.0\n"
          ]
        }
      ],
      "source": [
        "precio_total = lambda invitados, coste : invitados * coste if invitados <= 200 else invitados * (coste * 0.9)\n",
        "\n",
        "print(precio_total(200,10))\n",
        "print(precio_total(199,10))\n",
        "print(precio_total(201,10))\n",
        "print(precio_total(300,10))"
      ]
    }
  ],
  "metadata": {
    "colab": {
      "provenance": []
    },
    "kernelspec": {
      "display_name": "Python 3",
      "name": "python3"
    },
    "language_info": {
      "codemirror_mode": {
        "name": "ipython",
        "version": 3
      },
      "file_extension": ".py",
      "mimetype": "text/x-python",
      "name": "python",
      "nbconvert_exporter": "python",
      "pygments_lexer": "ipython3",
      "version": "3.11.8"
    }
  },
  "nbformat": 4,
  "nbformat_minor": 0
}
